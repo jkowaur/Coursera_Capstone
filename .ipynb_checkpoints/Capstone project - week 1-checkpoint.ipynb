{
 "cells": [
  {
   "cell_type": "markdown",
   "metadata": {},
   "source": [
    "# Introduction: Business Problem "
   ]
  },
  {
   "cell_type": "markdown",
   "metadata": {},
   "source": [
    "I live in Taiwan. There are lots of convenience store in Taiwan, but more and more convenience store will open. Because population density in Taiwan is very high, and Taiwanese is very lazy,  one of reason taiwanese choose where to live is is there any convience store. Therefore more and more convience stores is requrired. \n",
    "\n",
    "In this project, I will try to find better loocation for convience store. This report will be targeted to stakeholders interested in opening an convience store in Yilan, Taiwan.\n",
    "\n",
    "The location will close to location where population density is high, so that it will keep revenue. And it must be less convience store already in that location."
   ]
  },
  {
   "cell_type": "markdown",
   "metadata": {},
   "source": [
    "# Data "
   ]
  },
  {
   "cell_type": "markdown",
   "metadata": {},
   "source": [
    "According above description, the project is similar to template project, and I will keep the idea of clustering the city by area and then plot heatmap to find better area. And I will change data to Yilain, Taiwan.\n",
    "\n",
    "Thre are two factors that infuleence: \n",
    "* number of existing convinence stores in the neighborhood \n",
    "* number of and distance toconvinence stores in the neighborhood\n",
    "\n",
    "\n",
    "I will use the following API:\n",
    "* Foursquare API: to find convinence stores\n",
    "* Google API: reverse geolocalisation"
   ]
  },
  {
   "cell_type": "code",
   "execution_count": null,
   "metadata": {},
   "outputs": [],
   "source": []
  }
 ],
 "metadata": {
  "kernelspec": {
   "display_name": "Python 3",
   "language": "python",
   "name": "python3"
  },
  "language_info": {
   "codemirror_mode": {
    "name": "ipython",
    "version": 3
   },
   "file_extension": ".py",
   "mimetype": "text/x-python",
   "name": "python",
   "nbconvert_exporter": "python",
   "pygments_lexer": "ipython3",
   "version": "3.6.12"
  }
 },
 "nbformat": 4,
 "nbformat_minor": 4
}
